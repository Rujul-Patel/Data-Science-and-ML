{
  "nbformat": 4,
  "nbformat_minor": 0,
  "metadata": {
    "colab": {
      "name": "MNIST-Handwritten-Digits.ipynb",
      "provenance": [],
      "authorship_tag": "ABX9TyNEenQCCWsxoKmR8eUu6PKm",
      "include_colab_link": true
    },
    "kernelspec": {
      "name": "python3",
      "display_name": "Python 3"
    },
    "accelerator": "GPU"
  },
  "cells": [
    {
      "cell_type": "markdown",
      "metadata": {
        "id": "view-in-github",
        "colab_type": "text"
      },
      "source": [
        "<a href=\"https://colab.research.google.com/github/Rujul-Patel/Data-Science-and-ML/blob/master/Deep-Learning/MNIST_Handwritten_Digits.ipynb\" target=\"_parent\"><img src=\"https://colab.research.google.com/assets/colab-badge.svg\" alt=\"Open In Colab\"/></a>"
      ]
    },
    {
      "cell_type": "markdown",
      "metadata": {
        "id": "Atf73ibebo5J"
      },
      "source": [
        "# CNN to classify handwritten digits \n",
        "----"
      ]
    },
    {
      "cell_type": "markdown",
      "metadata": {
        "id": "Qi9YTagxeyaK"
      },
      "source": [
        "### Importing Tensorflow and MNIST Dataset"
      ]
    },
    {
      "cell_type": "code",
      "metadata": {
        "id": "IM_n_gJte3jJ"
      },
      "source": [
        "import tensorflow as tf\n",
        "from tensorflow.keras.datasets import mnist\n",
        "\n",
        "#Other Libraries\n",
        "import numpy as np\n",
        "\n",
        "#Plot Paramenters\n",
        "from matplotlib import pyplot as plt\n",
        "plt.rcParams['figure.figsize'] = (16,8)"
      ],
      "execution_count": 2,
      "outputs": []
    },
    {
      "cell_type": "markdown",
      "metadata": {
        "id": "jvKc_ZrQc707"
      },
      "source": [
        "##### Importing MNIST Dataset"
      ]
    },
    {
      "cell_type": "code",
      "metadata": {
        "id": "Ir59xbOZXplS",
        "outputId": "086c33a6-fd2f-4aa4-8bac-234f14a142c3",
        "colab": {
          "base_uri": "https://localhost:8080/",
          "height": 85
        }
      },
      "source": [
        "(X_train,y_train),(X_test,y_test) = mnist.load_data()\n",
        "\n",
        "#Dataset size\n",
        "print(\"Training Data Shape \\t: X : \",X_train.shape, \" y : \",y_train.shape)\n",
        "print(\"Test Data Shape \\t: X : \",X_test.shape, \" y : \",y_test.shape)"
      ],
      "execution_count": 3,
      "outputs": [
        {
          "output_type": "stream",
          "text": [
            "Downloading data from https://storage.googleapis.com/tensorflow/tf-keras-datasets/mnist.npz\n",
            "11493376/11490434 [==============================] - 0s 0us/step\n",
            "Training Data Shape \t: X :  (60000, 28, 28)  y :  (60000,)\n",
            "Test Data Shape \t: X :  (10000, 28, 28)  y :  (10000,)\n"
          ],
          "name": "stdout"
        }
      ]
    },
    {
      "cell_type": "markdown",
      "metadata": {
        "id": "WBFfvge1guVN"
      },
      "source": [
        "Thus, we have total of 70,000 28X28 pixels images, of which 60,000 are in training set and rest 10,000 in test data set"
      ]
    },
    {
      "cell_type": "markdown",
      "metadata": {
        "id": "P_VpyNBqG9Zn"
      },
      "source": [
        "### Preview Few Random Images\n",
        "-------\n"
      ]
    },
    {
      "cell_type": "code",
      "metadata": {
        "id": "E51p82L1HXbE",
        "outputId": "ed6d3a72-edef-4577-bb55-4e56ea6cc413",
        "colab": {
          "base_uri": "https://localhost:8080/",
          "height": 455
        }
      },
      "source": [
        "rand_arr = np.random.randint(low=1,high=len(X_train),size=(10,))\n",
        "for i in range(0,len(rand_arr)):\n",
        "  plt.subplot(2,5,i+1)\n",
        "  plt.imshow(X_train[rand_arr[i]],cmap=plt.get_cmap('gray'))\n",
        "  plt.title(y_train[rand_arr[i]])"
      ],
      "execution_count": 4,
      "outputs": [
        {
          "output_type": "display_data",
          "data": {
            "image/png": "[encoded data removed]",
            "text/plain": [
              "<Figure size 1152x576 with 10 Axes>"
            ]
          },
          "metadata": {
            "tags": [],
            "needs_background": "light"
          }
        }
      ]
    },
    {
      "cell_type": "markdown",
      "metadata": {
        "id": "vjZXEGdc67Ma"
      },
      "source": [
        "#### Preprocess Data"
      ]
    },
    {
      "cell_type": "code",
      "metadata": {
        "id": "-kvc0yCj7AQO"
      },
      "source": [
        "#One-hot encode the y variable\n",
        "y_train  = tf.one_hot(y_train,depth=10)\n",
        "y_test = tf.one_hot(y_test,depth=10)\n",
        "\n",
        "#Normalizing\n",
        "X_train = X_train/255.0\n",
        "X_test = X_test/255.0"
      ],
      "execution_count": 5,
      "outputs": []
    },
    {
      "cell_type": "markdown",
      "metadata": {
        "id": "ueFvj35udzPT"
      },
      "source": [
        "# Creating a Shallow Neural Network Model"
      ]
    },
    {
      "cell_type": "code",
      "metadata": {
        "id": "THbLC4JWE5w2"
      },
      "source": [
        "#Defining a Shallow Model with 1 hidden layer\n",
        "\n",
        "model_shallow = tf.keras.models.Sequential()\n",
        "model_shallow.add(tf.keras.layers.Flatten(input_shape=(28,28)))\n",
        "model_shallow.add(tf.keras.layers.Dense(128,activation='sigmoid'))\n",
        "model_shallow.add(tf.keras.layers.Dense(10,activation='softmax'))"
      ],
      "execution_count": 8,
      "outputs": []
    },
    {
      "cell_type": "code",
      "metadata": {
        "id": "U3x9RpH9Gi-B",
        "outputId": "3b636830-8aae-427b-eae1-bc0df333b570",
        "colab": {
          "base_uri": "https://localhost:8080/",
          "height": 1000
        }
      },
      "source": [
        "#Compiling the model\n",
        "model_shallow.compile(optimizer='sgd',loss='categorical_crossentropy',metrics=['accuracy'])\n",
        "\n",
        "#Train the model\n",
        "%time model_shallow.fit(X_train,y_train,epochs=60,batch_size=10)"
      ],
      "execution_count": 9,
      "outputs": [
        {
          "output_type": "stream",
          "text": [
            "Epoch 1/60\n",
            "6000/6000 [==============================] - 11s 2ms/step - loss: 0.8529 - accuracy: 0.8049\n",
            "Epoch 2/60\n",
            "6000/6000 [==============================] - 11s 2ms/step - loss: 0.4009 - accuracy: 0.8920\n",
            "Epoch 3/60\n",
            "6000/6000 [==============================] - 11s 2ms/step - loss: 0.3395 - accuracy: 0.9039\n",
            "Epoch 4/60\n",
            "6000/6000 [==============================] - 11s 2ms/step - loss: 0.3108 - accuracy: 0.9112\n",
            "Epoch 5/60\n",
            "6000/6000 [==============================] - 11s 2ms/step - loss: 0.2914 - accuracy: 0.9168\n",
            "Epoch 6/60\n",
            "6000/6000 [==============================] - 11s 2ms/step - loss: 0.2765 - accuracy: 0.9207\n",
            "Epoch 7/60\n",
            "6000/6000 [==============================] - 11s 2ms/step - loss: 0.2638 - accuracy: 0.9245\n",
            "Epoch 8/60\n",
            "6000/6000 [==============================] - 11s 2ms/step - loss: 0.2524 - accuracy: 0.9275\n",
            "Epoch 9/60\n",
            "6000/6000 [==============================] - 11s 2ms/step - loss: 0.2421 - accuracy: 0.9303\n",
            "Epoch 10/60\n",
            "6000/6000 [==============================] - 11s 2ms/step - loss: 0.2325 - accuracy: 0.9332\n",
            "Epoch 11/60\n",
            "6000/6000 [==============================] - 12s 2ms/step - loss: 0.2234 - accuracy: 0.9360\n",
            "Epoch 12/60\n",
            "6000/6000 [==============================] - 11s 2ms/step - loss: 0.2150 - accuracy: 0.9384\n",
            "Epoch 13/60\n",
            "6000/6000 [==============================] - 11s 2ms/step - loss: 0.2074 - accuracy: 0.9408\n",
            "Epoch 14/60\n",
            "6000/6000 [==============================] - 11s 2ms/step - loss: 0.2002 - accuracy: 0.9431\n",
            "Epoch 15/60\n",
            "6000/6000 [==============================] - 11s 2ms/step - loss: 0.1933 - accuracy: 0.9451\n",
            "Epoch 16/60\n",
            "6000/6000 [==============================] - 11s 2ms/step - loss: 0.1870 - accuracy: 0.9467\n",
            "Epoch 17/60\n",
            "6000/6000 [==============================] - 11s 2ms/step - loss: 0.1808 - accuracy: 0.9487\n",
            "Epoch 18/60\n",
            "6000/6000 [==============================] - 11s 2ms/step - loss: 0.1751 - accuracy: 0.9497\n",
            "Epoch 19/60\n",
            "6000/6000 [==============================] - 11s 2ms/step - loss: 0.1696 - accuracy: 0.9518\n",
            "Epoch 20/60\n",
            "6000/6000 [==============================] - 11s 2ms/step - loss: 0.1647 - accuracy: 0.9529\n",
            "Epoch 21/60\n",
            "6000/6000 [==============================] - 11s 2ms/step - loss: 0.1599 - accuracy: 0.9543\n",
            "Epoch 22/60\n",
            "6000/6000 [==============================] - 11s 2ms/step - loss: 0.1553 - accuracy: 0.9558\n",
            "Epoch 23/60\n",
            "6000/6000 [==============================] - 11s 2ms/step - loss: 0.1509 - accuracy: 0.9569\n",
            "Epoch 24/60\n",
            "6000/6000 [==============================] - 12s 2ms/step - loss: 0.1467 - accuracy: 0.9585\n",
            "Epoch 25/60\n",
            "6000/6000 [==============================] - 11s 2ms/step - loss: 0.1430 - accuracy: 0.9593\n",
            "Epoch 26/60\n",
            "6000/6000 [==============================] - 11s 2ms/step - loss: 0.1390 - accuracy: 0.9606\n",
            "Epoch 27/60\n",
            "6000/6000 [==============================] - 11s 2ms/step - loss: 0.1356 - accuracy: 0.9618\n",
            "Epoch 28/60\n",
            "6000/6000 [==============================] - 11s 2ms/step - loss: 0.1322 - accuracy: 0.9627\n",
            "Epoch 29/60\n",
            "6000/6000 [==============================] - 11s 2ms/step - loss: 0.1290 - accuracy: 0.9635\n",
            "Epoch 30/60\n",
            "6000/6000 [==============================] - 11s 2ms/step - loss: 0.1260 - accuracy: 0.9647\n",
            "Epoch 31/60\n",
            "6000/6000 [==============================] - 11s 2ms/step - loss: 0.1229 - accuracy: 0.9652\n",
            "Epoch 32/60\n",
            "6000/6000 [==============================] - 11s 2ms/step - loss: 0.1201 - accuracy: 0.9658\n",
            "Epoch 33/60\n",
            "6000/6000 [==============================] - 11s 2ms/step - loss: 0.1173 - accuracy: 0.9666\n",
            "Epoch 34/60\n",
            "6000/6000 [==============================] - 11s 2ms/step - loss: 0.1147 - accuracy: 0.9680\n",
            "Epoch 35/60\n",
            "6000/6000 [==============================] - 11s 2ms/step - loss: 0.1120 - accuracy: 0.9681\n",
            "Epoch 36/60\n",
            "6000/6000 [==============================] - 11s 2ms/step - loss: 0.1098 - accuracy: 0.9690\n",
            "Epoch 37/60\n",
            "6000/6000 [==============================] - 11s 2ms/step - loss: 0.1074 - accuracy: 0.9699\n",
            "Epoch 38/60\n",
            "6000/6000 [==============================] - 11s 2ms/step - loss: 0.1050 - accuracy: 0.9707\n",
            "Epoch 39/60\n",
            "6000/6000 [==============================] - 11s 2ms/step - loss: 0.1030 - accuracy: 0.9709\n",
            "Epoch 40/60\n",
            "6000/6000 [==============================] - 11s 2ms/step - loss: 0.1008 - accuracy: 0.9720\n",
            "Epoch 41/60\n",
            "6000/6000 [==============================] - 11s 2ms/step - loss: 0.0987 - accuracy: 0.9725\n",
            "Epoch 42/60\n",
            "6000/6000 [==============================] - 11s 2ms/step - loss: 0.0969 - accuracy: 0.9731\n",
            "Epoch 43/60\n",
            "6000/6000 [==============================] - 11s 2ms/step - loss: 0.0950 - accuracy: 0.9733\n",
            "Epoch 44/60\n",
            "6000/6000 [==============================] - 11s 2ms/step - loss: 0.0933 - accuracy: 0.9739\n",
            "Epoch 45/60\n",
            "6000/6000 [==============================] - 11s 2ms/step - loss: 0.0915 - accuracy: 0.9744\n",
            "Epoch 46/60\n",
            "6000/6000 [==============================] - 11s 2ms/step - loss: 0.0897 - accuracy: 0.9749\n",
            "Epoch 47/60\n",
            "6000/6000 [==============================] - 11s 2ms/step - loss: 0.0881 - accuracy: 0.9757\n",
            "Epoch 48/60\n",
            "6000/6000 [==============================] - 11s 2ms/step - loss: 0.0865 - accuracy: 0.9757\n",
            "Epoch 49/60\n",
            "6000/6000 [==============================] - 11s 2ms/step - loss: 0.0849 - accuracy: 0.9765\n",
            "Epoch 50/60\n",
            "6000/6000 [==============================] - 11s 2ms/step - loss: 0.0834 - accuracy: 0.9773\n",
            "Epoch 51/60\n",
            "6000/6000 [==============================] - 11s 2ms/step - loss: 0.0820 - accuracy: 0.9775\n",
            "Epoch 52/60\n",
            "6000/6000 [==============================] - 11s 2ms/step - loss: 0.0807 - accuracy: 0.9780\n",
            "Epoch 53/60\n",
            "6000/6000 [==============================] - 11s 2ms/step - loss: 0.0792 - accuracy: 0.9781\n",
            "Epoch 54/60\n",
            "6000/6000 [==============================] - 11s 2ms/step - loss: 0.0779 - accuracy: 0.9787\n",
            "Epoch 55/60\n",
            "6000/6000 [==============================] - 11s 2ms/step - loss: 0.0765 - accuracy: 0.9790\n",
            "Epoch 56/60\n",
            "6000/6000 [==============================] - 11s 2ms/step - loss: 0.0753 - accuracy: 0.9794\n",
            "Epoch 57/60\n",
            "6000/6000 [==============================] - 11s 2ms/step - loss: 0.0741 - accuracy: 0.9798\n",
            "Epoch 58/60\n",
            "6000/6000 [==============================] - 11s 2ms/step - loss: 0.0729 - accuracy: 0.9800\n",
            "Epoch 59/60\n",
            "6000/6000 [==============================] - 11s 2ms/step - loss: 0.0718 - accuracy: 0.9804\n",
            "Epoch 60/60\n",
            "6000/6000 [==============================] - 11s 2ms/step - loss: 0.0707 - accuracy: 0.9809\n",
            "CPU times: user 11min 43s, sys: 2min 4s, total: 13min 48s\n",
            "Wall time: 10min 56s\n"
          ],
          "name": "stdout"
        },
        {
          "output_type": "execute_result",
          "data": {
            "text/plain": [
              "<tensorflow.python.keras.callbacks.History at 0x7f248a59e9e8>"
            ]
          },
          "metadata": {
            "tags": []
          },
          "execution_count": 9
        }
      ]
    },
    {
      "cell_type": "code",
      "metadata": {
        "id": "x0xYBtHxLbqA",
        "outputId": "21e3cc21-3021-46aa-ac61-3481bd0e6149",
        "colab": {
          "base_uri": "https://localhost:8080/",
          "height": 68
        }
      },
      "source": [
        "score, acc = model_shallow.evaluate(X_test,y_test)\n",
        "print('Test Score: ',score)\n",
        "print('Train Accuracy:', round((acc*100),2),\" %\")"
      ],
      "execution_count": 12,
      "outputs": [
        {
          "output_type": "stream",
          "text": [
            "313/313 [==============================] - 1s 2ms/step - loss: 0.0899 - accuracy: 0.9727\n",
            "Test Score:  0.0899033322930336\n",
            "Train Accuracy: 97.27  %\n"
          ],
          "name": "stdout"
        }
      ]
    },
    {
      "cell_type": "code",
      "metadata": {
        "id": "y7XT3dRCNAe1"
      },
      "source": [
        ""
      ],
      "execution_count": null,
      "outputs": []
    }
  ]
}