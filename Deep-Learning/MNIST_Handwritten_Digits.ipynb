{
  "nbformat": 4,
  "nbformat_minor": 0,
  "metadata": {
    "colab": {
      "name": "MNIST-Handwritten-Digits.ipynb",
      "provenance": [],
      "authorship_tag": "ABX9TyPe/y9JLFQoYZjD92u3sjpk",
      "include_colab_link": true
    },
    "kernelspec": {
      "name": "python3",
      "display_name": "Python 3"
    },
    "accelerator": "GPU"
  },
  "cells": [
    {
      "cell_type": "markdown",
      "metadata": {
        "id": "view-in-github",
        "colab_type": "text"
      },
      "source": [
        "<a href=\"https://colab.research.google.com/github/Rujul-Patel/Data-Science-and-ML/blob/master/Deep-Learning/MNIST_Handwritten_Digits.ipynb\" target=\"_parent\"><img src=\"https://colab.research.google.com/assets/colab-badge.svg\" alt=\"Open In Colab\"/></a>"
      ]
    },
    {
      "cell_type": "markdown",
      "metadata": {
        "id": "Atf73ibebo5J"
      },
      "source": [
        "# CNN to classify handwritten digits \n",
        "----"
      ]
    },
    {
      "cell_type": "markdown",
      "metadata": {
        "id": "Qi9YTagxeyaK"
      },
      "source": [
        "### Importing Tensorflow and MNIST Dataset"
      ]
    },
    {
      "cell_type": "code",
      "metadata": {
        "id": "IM_n_gJte3jJ"
      },
      "source": [
        "import tensorflow as tf\n",
        "from tensorflow.keras.datasets import mnist\n",
        "\n",
        "#Other Libraries\n",
        "import numpy as np\n",
        "\n",
        "#Plot Paramenters\n",
        "from matplotlib import pyplot as plt\n",
        "plt.rcParams['figure.figsize'] = (16,8)"
      ],
      "execution_count": 1,
      "outputs": []
    },
    {
      "cell_type": "markdown",
      "metadata": {
        "id": "jvKc_ZrQc707"
      },
      "source": [
        "##### Importing MNIST Dataset"
      ]
    },
    {
      "cell_type": "code",
      "metadata": {
        "id": "Ir59xbOZXplS",
        "outputId": "f57628dc-c4be-47f5-f83a-bc008010eeb6",
        "colab": {
          "base_uri": "https://localhost:8080/",
          "height": 85
        }
      },
      "source": [
        "(X_train,y_train),(X_test,y_test) = mnist.load_data()\n",
        "\n",
        "#Dataset size\n",
        "print(\"Training Data Shape \\t: X : \",X_train.shape, \" y : \",y_train.shape)\n",
        "print(\"Test Data Shape \\t: X : \",X_test.shape, \" y : \",y_test.shape)"
      ],
      "execution_count": 2,
      "outputs": [
        {
          "output_type": "stream",
          "text": [
            "Downloading data from https://storage.googleapis.com/tensorflow/tf-keras-datasets/mnist.npz\n",
            "11493376/11490434 [==============================] - 0s 0us/step\n",
            "Training Data Shape \t: X :  (60000, 28, 28)  y :  (60000,)\n",
            "Test Data Shape \t: X :  (10000, 28, 28)  y :  (10000,)\n"
          ],
          "name": "stdout"
        }
      ]
    },
    {
      "cell_type": "markdown",
      "metadata": {
        "id": "WBFfvge1guVN"
      },
      "source": [
        "Thus, we have total of 70,000 28X28 pixels images, of which 60,000 are in training set and rest 10,000 in test data set"
      ]
    },
    {
      "cell_type": "markdown",
      "metadata": {
        "id": "P_VpyNBqG9Zn"
      },
      "source": [
        "### Preview Few Random Images\n",
        "-------\n"
      ]
    },
    {
      "cell_type": "code",
      "metadata": {
        "id": "E51p82L1HXbE",
        "outputId": "0f01679e-071d-4aaa-cf9f-21292d1c08dc",
        "colab": {
          "base_uri": "https://localhost:8080/",
          "height": 240
        }
      },
      "source": [
        "rand_arr = np.random.randint(low=1,high=len(X_train),size=(10,))\n",
        "for i in range(0,len(rand_arr)):\n",
        "  plt.subplot(2,5,i+1)\n",
        "  plt.imshow(X_train[rand_arr[i]],cmap=plt.get_cmap('gray'))\n",
        "  plt.title(y_train[rand_arr[i]])"
      ],
      "execution_count": 3,
      "outputs": [
        {
          "output_type": "display_data",
          "data": {
            "image/png": "[encoded data removed]",
            "text/plain": [
              "<Figure size 432x288 with 10 Axes>"
            ]
          },
          "metadata": {
            "tags": [],
            "needs_background": "light"
          }
        }
      ]
    },
    {
      "cell_type": "markdown",
      "metadata": {
        "id": "vjZXEGdc67Ma"
      },
      "source": [
        "#### Preprocess Data"
      ]
    },
    {
      "cell_type": "code",
      "metadata": {
        "id": "-kvc0yCj7AQO"
      },
      "source": [
        "#One-hot encode the y variable\n",
        "y_train  = tf.one_hot(y_train,depth=10)\n",
        "y_test = tf.one_hot(y_test,depth=10)\n",
        "\n",
        "#Normalizing\n",
        "X_train = X_train/255.0\n",
        "X_test = X_test/255.0"
      ],
      "execution_count": 4,
      "outputs": []
    },
    {
      "cell_type": "markdown",
      "metadata": {
        "id": "ueFvj35udzPT"
      },
      "source": [
        "# Creating a Shallow Neural Network Model"
      ]
    },
    {
      "cell_type": "code",
      "metadata": {
        "id": "TYHILmkfFKIe"
      },
      "source": [
        "shallow_model = tf.keras.models.Sequential()\n",
        "shallow_model.add(tf.keras.layers.Flatten(input_shape=(28,28)))\n",
        "shallow_model.add(tf.keras.layers.Dense(128,activation='sigmoid',kernel_regularizer=tf.keras.regularizers.l2(0.001)))\n",
        "shallow_model.add(tf.keras.layers.Dense(10,activation='softmax'))"
      ],
      "execution_count": 5,
      "outputs": []
    },
    {
      "cell_type": "code",
      "metadata": {
        "id": "cIqZd-EyG3EJ",
        "outputId": "a2f422e1-0cf3-45f1-a4ae-6d559e9b3452",
        "colab": {
          "base_uri": "https://localhost:8080/",
          "height": 1000
        }
      },
      "source": [
        "#Compile the Model\n",
        "shallow_model.compile(optimizer='adam',loss='categorical_crossentropy',metrics=['accuracy'])\n",
        "\n",
        "%time history = shallow_model.fit(X_train,y_train,validation_split=0.166,epochs=30,batch_size=10)"
      ],
      "execution_count": 6,
      "outputs": [
        {
          "output_type": "stream",
          "text": [
            "Epoch 1/30\n",
            "5004/5004 [==============================] - 15s 3ms/step - loss: 0.5586 - accuracy: 0.8860 - val_loss: 0.4177 - val_accuracy: 0.9177\n",
            "Epoch 2/30\n",
            "5004/5004 [==============================] - 15s 3ms/step - loss: 0.4182 - accuracy: 0.9135 - val_loss: 0.3644 - val_accuracy: 0.9301\n",
            "Epoch 3/30\n",
            "5004/5004 [==============================] - 16s 3ms/step - loss: 0.3809 - accuracy: 0.9218 - val_loss: 0.3541 - val_accuracy: 0.9295\n",
            "Epoch 4/30\n",
            "5004/5004 [==============================] - 15s 3ms/step - loss: 0.3576 - accuracy: 0.9305 - val_loss: 0.3277 - val_accuracy: 0.9400\n",
            "Epoch 5/30\n",
            "5004/5004 [==============================] - 15s 3ms/step - loss: 0.3387 - accuracy: 0.9349 - val_loss: 0.3113 - val_accuracy: 0.9471\n",
            "Epoch 6/30\n",
            "5004/5004 [==============================] - 15s 3ms/step - loss: 0.3267 - accuracy: 0.9369 - val_loss: 0.2991 - val_accuracy: 0.9457\n",
            "Epoch 7/30\n",
            "5004/5004 [==============================] - 15s 3ms/step - loss: 0.3145 - accuracy: 0.9407 - val_loss: 0.2943 - val_accuracy: 0.9480\n",
            "Epoch 8/30\n",
            "5004/5004 [==============================] - 15s 3ms/step - loss: 0.3022 - accuracy: 0.9438 - val_loss: 0.2828 - val_accuracy: 0.9506\n",
            "Epoch 9/30\n",
            "5004/5004 [==============================] - 15s 3ms/step - loss: 0.2936 - accuracy: 0.9465 - val_loss: 0.2768 - val_accuracy: 0.9516\n",
            "Epoch 10/30\n",
            "5004/5004 [==============================] - 15s 3ms/step - loss: 0.2868 - accuracy: 0.9472 - val_loss: 0.2664 - val_accuracy: 0.9542\n",
            "Epoch 11/30\n",
            "5004/5004 [==============================] - 15s 3ms/step - loss: 0.2790 - accuracy: 0.9488 - val_loss: 0.2569 - val_accuracy: 0.9588\n",
            "Epoch 12/30\n",
            "5004/5004 [==============================] - 15s 3ms/step - loss: 0.2721 - accuracy: 0.9496 - val_loss: 0.2610 - val_accuracy: 0.9553\n",
            "Epoch 13/30\n",
            "5004/5004 [==============================] - 15s 3ms/step - loss: 0.2664 - accuracy: 0.9514 - val_loss: 0.2527 - val_accuracy: 0.9576\n",
            "Epoch 14/30\n",
            "5004/5004 [==============================] - 15s 3ms/step - loss: 0.2604 - accuracy: 0.9529 - val_loss: 0.2667 - val_accuracy: 0.9519\n",
            "Epoch 15/30\n",
            "5004/5004 [==============================] - 16s 3ms/step - loss: 0.2548 - accuracy: 0.9534 - val_loss: 0.2381 - val_accuracy: 0.9627\n",
            "Epoch 16/30\n",
            "5004/5004 [==============================] - 15s 3ms/step - loss: 0.2494 - accuracy: 0.9555 - val_loss: 0.2324 - val_accuracy: 0.9622\n",
            "Epoch 17/30\n",
            "5004/5004 [==============================] - 15s 3ms/step - loss: 0.2451 - accuracy: 0.9559 - val_loss: 0.2295 - val_accuracy: 0.9612\n",
            "Epoch 18/30\n",
            "5004/5004 [==============================] - 15s 3ms/step - loss: 0.2414 - accuracy: 0.9559 - val_loss: 0.2362 - val_accuracy: 0.9603\n",
            "Epoch 19/30\n",
            "5004/5004 [==============================] - 15s 3ms/step - loss: 0.2377 - accuracy: 0.9575 - val_loss: 0.2387 - val_accuracy: 0.9578\n",
            "Epoch 20/30\n",
            "5004/5004 [==============================] - 15s 3ms/step - loss: 0.2348 - accuracy: 0.9581 - val_loss: 0.2376 - val_accuracy: 0.9595\n",
            "Epoch 21/30\n",
            "5004/5004 [==============================] - 15s 3ms/step - loss: 0.2317 - accuracy: 0.9588 - val_loss: 0.2250 - val_accuracy: 0.9618\n",
            "Epoch 22/30\n",
            "5004/5004 [==============================] - 15s 3ms/step - loss: 0.2287 - accuracy: 0.9597 - val_loss: 0.2209 - val_accuracy: 0.9649\n",
            "Epoch 23/30\n",
            "5004/5004 [==============================] - 16s 3ms/step - loss: 0.2273 - accuracy: 0.9589 - val_loss: 0.2368 - val_accuracy: 0.9579\n",
            "Epoch 24/30\n",
            "5004/5004 [==============================] - 16s 3ms/step - loss: 0.2228 - accuracy: 0.9606 - val_loss: 0.2220 - val_accuracy: 0.9596\n",
            "Epoch 25/30\n",
            "5004/5004 [==============================] - 15s 3ms/step - loss: 0.2235 - accuracy: 0.9597 - val_loss: 0.2287 - val_accuracy: 0.9573\n",
            "Epoch 26/30\n",
            "5004/5004 [==============================] - 15s 3ms/step - loss: 0.2185 - accuracy: 0.9607 - val_loss: 0.2136 - val_accuracy: 0.9659\n",
            "Epoch 27/30\n",
            "5004/5004 [==============================] - 15s 3ms/step - loss: 0.2174 - accuracy: 0.9614 - val_loss: 0.2149 - val_accuracy: 0.9652\n",
            "Epoch 28/30\n",
            "5004/5004 [==============================] - 15s 3ms/step - loss: 0.2153 - accuracy: 0.9609 - val_loss: 0.2040 - val_accuracy: 0.9662\n",
            "Epoch 29/30\n",
            "5004/5004 [==============================] - 15s 3ms/step - loss: 0.2143 - accuracy: 0.9614 - val_loss: 0.2101 - val_accuracy: 0.9641\n",
            "Epoch 30/30\n",
            "5004/5004 [==============================] - 15s 3ms/step - loss: 0.2132 - accuracy: 0.9617 - val_loss: 0.2068 - val_accuracy: 0.9666\n",
            "CPU times: user 7min 46s, sys: 1min 35s, total: 9min 22s\n",
            "Wall time: 7min 40s\n"
          ],
          "name": "stdout"
        }
      ]
    },
    {
      "cell_type": "code",
      "metadata": {
        "id": "sjD8V1dEH_0n",
        "outputId": "a1fb10d5-d7b8-4f23-bf72-03072e31deeb",
        "colab": {
          "base_uri": "https://localhost:8080/",
          "height": 68
        }
      },
      "source": [
        "score, acc = shallow_model.evaluate(X_test,y_test)\n",
        "print('Test Score : ',score)\n",
        "print('Test Accuracy : ',round((acc*100),2),\"%\")"
      ],
      "execution_count": 7,
      "outputs": [
        {
          "output_type": "stream",
          "text": [
            "313/313 [==============================] - 1s 3ms/step - loss: 0.2061 - accuracy: 0.9642\n",
            "Test Score :  0.2061159610748291\n",
            "Test Accuracy :  96.42 %\n"
          ],
          "name": "stdout"
        }
      ]
    },
    {
      "cell_type": "code",
      "metadata": {
        "id": "wbAM6laDK1WR",
        "outputId": "a71c1459-b7ca-4449-f862-e609c45b652b",
        "colab": {
          "base_uri": "https://localhost:8080/",
          "height": 285
        }
      },
      "source": [
        "plt.plot(history.history['accuracy'],label='Train Accuracy')\n",
        "plt.plot(history.history['val_accuracy'],label='Test Accuracy')\n",
        "plt.legend()"
      ],
      "execution_count": 8,
      "outputs": [
        {
          "output_type": "execute_result",
          "data": {
            "text/plain": [
              "<matplotlib.legend.Legend at 0x7f04a0253240>"
            ]
          },
          "metadata": {
            "tags": []
          },
          "execution_count": 8
        },
        {
          "output_type": "display_data",
          "data": {
            "image/png": "[encoded data removed]",
            "text/plain": [
              "<Figure size 432x288 with 1 Axes>"
            ]
          },
          "metadata": {
            "tags": [],
            "needs_background": "light"
          }
        }
      ]
    },
    {
      "cell_type": "code",
      "metadata": {
        "id": "UMe7r91fQBz8",
        "outputId": "f85df43c-d3dd-476c-cc0d-416c68c116a2",
        "colab": {
          "base_uri": "https://localhost:8080/",
          "height": 282
        }
      },
      "source": [
        "plt.plot(history.history['loss'],label='Train Loss')\n",
        "plt.plot(history.history['val_loss'],label='Validation Loss')\n",
        "plt.legend()"
      ],
      "execution_count": 9,
      "outputs": [
        {
          "output_type": "execute_result",
          "data": {
            "text/plain": [
              "<matplotlib.legend.Legend at 0x7f04a0283828>"
            ]
          },
          "metadata": {
            "tags": []
          },
          "execution_count": 9
        },
        {
          "output_type": "display_data",
          "data": {
            "image/png": "[encoded data removed]",
            "text/plain": [
              "<Figure size 432x288 with 1 Axes>"
            ]
          },
          "metadata": {
            "tags": [],
            "needs_background": "light"
          }
        }
      ]
    },
    {
      "cell_type": "markdown",
      "metadata": {
        "id": "Mj8oq2e9ulHx"
      },
      "source": [
        "# Convolution Neural Network\n",
        "-------"
      ]
    },
    {
      "cell_type": "code",
      "metadata": {
        "id": "FyhZd_EbzDDx"
      },
      "source": [
        "trainx = X_train.reshape(X_train.shape[0],28,28,1)\n",
        "testx = X_test.reshape(X_test.shape[0],28,28,1)"
      ],
      "execution_count": 24,
      "outputs": []
    },
    {
      "cell_type": "code",
      "metadata": {
        "id": "07WjOyIKun-p"
      },
      "source": [
        "model = tf.keras.models.Sequential()\n",
        "model.add(tf.keras.layers.Conv2D(30,(5,5),activation='relu',input_shape=(28,28,1)))\n",
        "model.add(tf.keras.layers.MaxPooling2D((2,2)))\n",
        "model.add(tf.keras.layers.Conv2D(60,(5,5),activation='relu'))\n",
        "model.add(tf.keras.layers.MaxPooling2D((2,2)))\n",
        "model.add(tf.keras.layers.Flatten())\n",
        "model.add(tf.keras.layers.Dense(500,activation='relu'))\n",
        "model.add(tf.keras.layers.Dropout(0.5))\n",
        "model.add(tf.keras.layers.Dense(1000,activation='relu'))\n",
        "model.add(tf.keras.layers.Dropout(0.5))\n",
        "model.add(tf.keras.layers.Dense(10,activation='softmax'))"
      ],
      "execution_count": 37,
      "outputs": []
    },
    {
      "cell_type": "code",
      "metadata": {
        "id": "Ifs5QanrvkJI"
      },
      "source": [
        "model.compile(optimizer='adam',loss='categorical_crossentropy',metrics=['accuracy'])"
      ],
      "execution_count": 38,
      "outputs": []
    },
    {
      "cell_type": "code",
      "metadata": {
        "id": "5VfbDOt0wfER",
        "outputId": "9ad24520-7415-4ff5-ab05-8a7911a676b9",
        "colab": {
          "base_uri": "https://localhost:8080/",
          "height": 731
        }
      },
      "source": [
        "%time history = model.fit(trainx,y_train,validation_split=0.166,epochs=20,batch_size=20)"
      ],
      "execution_count": 39,
      "outputs": [
        {
          "output_type": "stream",
          "text": [
            "Epoch 1/20\n",
            "2502/2502 [==============================] - 18s 7ms/step - loss: 0.1671 - accuracy: 0.9482 - val_loss: 0.0584 - val_accuracy: 0.9839\n",
            "Epoch 2/20\n",
            "2502/2502 [==============================] - 17s 7ms/step - loss: 0.0655 - accuracy: 0.9811 - val_loss: 0.0457 - val_accuracy: 0.9870\n",
            "Epoch 3/20\n",
            "2502/2502 [==============================] - 17s 7ms/step - loss: 0.0533 - accuracy: 0.9852 - val_loss: 0.0486 - val_accuracy: 0.9869\n",
            "Epoch 4/20\n",
            "2502/2502 [==============================] - 17s 7ms/step - loss: 0.0445 - accuracy: 0.9877 - val_loss: 0.0386 - val_accuracy: 0.9892\n",
            "Epoch 5/20\n",
            "2502/2502 [==============================] - 17s 7ms/step - loss: 0.0390 - accuracy: 0.9902 - val_loss: 0.0636 - val_accuracy: 0.9859\n",
            "Epoch 6/20\n",
            "2502/2502 [==============================] - 18s 7ms/step - loss: 0.0370 - accuracy: 0.9906 - val_loss: 0.0531 - val_accuracy: 0.9866\n",
            "Epoch 7/20\n",
            "2502/2502 [==============================] - 17s 7ms/step - loss: 0.0344 - accuracy: 0.9910 - val_loss: 0.0488 - val_accuracy: 0.9868\n",
            "Epoch 8/20\n",
            "2502/2502 [==============================] - 18s 7ms/step - loss: 0.0305 - accuracy: 0.9920 - val_loss: 0.0504 - val_accuracy: 0.9898\n",
            "Epoch 9/20\n",
            "2502/2502 [==============================] - 17s 7ms/step - loss: 0.0303 - accuracy: 0.9923 - val_loss: 0.0554 - val_accuracy: 0.9901\n",
            "Epoch 10/20\n",
            "2502/2502 [==============================] - 18s 7ms/step - loss: 0.0295 - accuracy: 0.9931 - val_loss: 0.0583 - val_accuracy: 0.9887\n",
            "Epoch 11/20\n",
            "2502/2502 [==============================] - 18s 7ms/step - loss: 0.0286 - accuracy: 0.9932 - val_loss: 0.0695 - val_accuracy: 0.9905\n",
            "Epoch 12/20\n",
            "2502/2502 [==============================] - 17s 7ms/step - loss: 0.0280 - accuracy: 0.9938 - val_loss: 0.0639 - val_accuracy: 0.9897\n",
            "Epoch 13/20\n",
            "2502/2502 [==============================] - 17s 7ms/step - loss: 0.0248 - accuracy: 0.9943 - val_loss: 0.0676 - val_accuracy: 0.9909\n",
            "Epoch 14/20\n",
            "2502/2502 [==============================] - 17s 7ms/step - loss: 0.0243 - accuracy: 0.9944 - val_loss: 0.0666 - val_accuracy: 0.9903\n",
            "Epoch 15/20\n",
            "2502/2502 [==============================] - 18s 7ms/step - loss: 0.0238 - accuracy: 0.9943 - val_loss: 0.0694 - val_accuracy: 0.9893\n",
            "Epoch 16/20\n",
            "2502/2502 [==============================] - 18s 7ms/step - loss: 0.0233 - accuracy: 0.9949 - val_loss: 0.0756 - val_accuracy: 0.9908\n",
            "Epoch 17/20\n",
            "2502/2502 [==============================] - 17s 7ms/step - loss: 0.0249 - accuracy: 0.9949 - val_loss: 0.0730 - val_accuracy: 0.9920\n",
            "Epoch 18/20\n",
            "2502/2502 [==============================] - 18s 7ms/step - loss: 0.0253 - accuracy: 0.9948 - val_loss: 0.1029 - val_accuracy: 0.9908\n",
            "Epoch 19/20\n",
            "2502/2502 [==============================] - 18s 7ms/step - loss: 0.0244 - accuracy: 0.9948 - val_loss: 0.0808 - val_accuracy: 0.9911\n",
            "Epoch 20/20\n",
            "2502/2502 [==============================] - 18s 7ms/step - loss: 0.0197 - accuracy: 0.9959 - val_loss: 0.0712 - val_accuracy: 0.9920\n",
            "CPU times: user 4min 57s, sys: 1min 23s, total: 6min 21s\n",
            "Wall time: 5min 51s\n"
          ],
          "name": "stdout"
        }
      ]
    },
    {
      "cell_type": "code",
      "metadata": {
        "id": "Exx5Ol541LB2",
        "outputId": "0d4bbc1f-ad15-4733-8395-60ca4d2ca866",
        "colab": {
          "base_uri": "https://localhost:8080/",
          "height": 68
        }
      },
      "source": [
        "score, acc = model.evaluate(testx,y_test)\n",
        "print('Test Score : ',score)\n",
        "print('Test Accuracy : ',round((acc*100),2),\"%\")"
      ],
      "execution_count": 40,
      "outputs": [
        {
          "output_type": "stream",
          "text": [
            "313/313 [==============================] - 1s 4ms/step - loss: 0.0590 - accuracy: 0.9919\n",
            "Test Score :  0.05897741764783859\n",
            "Test Accuracy :  99.19 %\n"
          ],
          "name": "stdout"
        }
      ]
    },
    {
      "cell_type": "code",
      "metadata": {
        "id": "JX14pySM1LCZ",
        "outputId": "50c7c4ad-e2b0-49e6-a1c2-2d5c7df1b1b1",
        "colab": {
          "base_uri": "https://localhost:8080/",
          "height": 282
        }
      },
      "source": [
        "plt.plot(history.history['accuracy'],label='Train Accuracy')\n",
        "plt.plot(history.history['val_accuracy'],label='Test Accuracy')\n",
        "plt.legend()"
      ],
      "execution_count": 41,
      "outputs": [
        {
          "output_type": "execute_result",
          "data": {
            "text/plain": [
              "<matplotlib.legend.Legend at 0x7f04af3c9f98>"
            ]
          },
          "metadata": {
            "tags": []
          },
          "execution_count": 41
        },
        {
          "output_type": "display_data",
          "data": {
            "image/png": "[encoded data removed]",
            "text/plain": [
              "<Figure size 432x288 with 1 Axes>"
            ]
          },
          "metadata": {
            "tags": [],
            "needs_background": "light"
          }
        }
      ]
    },
    {
      "cell_type": "code",
      "metadata": {
        "id": "hGybN36E1UR8",
        "outputId": "0bedaad9-daa0-42ca-d70e-d77aa6123891",
        "colab": {
          "base_uri": "https://localhost:8080/",
          "height": 282
        }
      },
      "source": [
        "plt.plot(history.history['loss'],label='Train Loss')\n",
        "plt.plot(history.history['val_loss'],label='Validation Loss')\n",
        "plt.legend()"
      ],
      "execution_count": 42,
      "outputs": [
        {
          "output_type": "execute_result",
          "data": {
            "text/plain": [
              "<matplotlib.legend.Legend at 0x7f044d049b00>"
            ]
          },
          "metadata": {
            "tags": []
          },
          "execution_count": 42
        },
        {
          "output_type": "display_data",
          "data": {
            "image/png": "[encoded data removed]",
            "text/plain": [
              "<Figure size 432x288 with 1 Axes>"
            ]
          },
          "metadata": {
            "tags": [],
            "needs_background": "light"
          }
        }
      ]
    },
    {
      "cell_type": "code",
      "metadata": {
        "id": "jCZi2_GA1kZ6"
      },
      "source": [
        ""
      ],
      "execution_count": 16,
      "outputs": []
    }
  ]
}